{
 "cells": [
  {
   "cell_type": "code",
   "execution_count": null,
   "metadata": {
    "colab": {
     "base_uri": "https://localhost:8080/"
    },
    "executionInfo": {
     "elapsed": 33235,
     "status": "ok",
     "timestamp": 1752670607558,
     "user": {
      "displayName": "Marshall",
      "userId": "13060896315515288966"
     },
     "user_tz": -420
    },
    "id": "S3wOj9aRC7Cx",
    "outputId": "3ca096d8-7f61-4efb-863a-5a42c95a4c4e"
   },
   "outputs": [
    {
     "name": "stdout",
     "output_type": "stream",
     "text": [
      "Mounted at /content/drive\n",
      "/content/drive/MyDrive/Trung\n"
     ]
    }
   ],
   "source": [
    "from google.colab import drive\n",
    "drive.mount(\"/content/drive\", force_remount=True)\n",
    "import os\n",
    "HOME = os.getcwd()\n",
    "%cd samurai # go to your samurai folder"
   ]
  },
  {
   "cell_type": "code",
   "execution_count": null,
   "metadata": {
    "id": "4vDHkvFsDq4o"
   },
   "outputs": [],
   "source": [
    "# Install Python dependencies\n",
    "!pip install torch torchvision torchaudio --index-url https://download.pytorch.org/whl/cu121\n",
    "!pip install -e ./sam2\n",
    "!pip install -e ./sam2[notebooks]\n",
    "!pip install -e \".[demo]\"\n",
    "\n",
    "!pip install matplotlib tikzplotlib jpeg4py opencv-python lmdb pandas scipy loguru pyrealsense2 ninja open3d\n",
    "%cd sam2\n",
    "!python setup.py build_ext --inplace\n",
    "%cd .."
   ]
  },
  {
   "cell_type": "code",
   "execution_count": null,
   "metadata": {
    "id": "gdd7Z7dqFr1j"
   },
   "outputs": [],
   "source": [
    "# Download checkpoints if needed\n",
    "# %cd sam2/checkpoints\n",
    "# !chmod +x download_ckpts.sh\n",
    "# !./download_ckpts.sh\n",
    "# %cd .."
   ]
  },
  {
   "cell_type": "code",
   "execution_count": null,
   "metadata": {},
   "outputs": [],
   "source": [
    "!python scripts/horizontal_deviation.py \\\n",
    "  --data_path path_to_folder \\ # path to your data folder, including color, depth folder and camera instrinsic \n",
    "  --txt_path assets/bb.txt # path to the starting bounding box"
   ]
  }
 ],
 "metadata": {
  "accelerator": "GPU",
  "colab": {
   "authorship_tag": "ABX9TyMK488CeNzN2yKSoh1hMr5q",
   "gpuType": "T4",
   "provenance": []
  },
  "kernelspec": {
   "display_name": "Python 3",
   "name": "python3"
  },
  "language_info": {
   "name": "python"
  }
 },
 "nbformat": 4,
 "nbformat_minor": 0
}
